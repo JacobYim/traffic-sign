{
 "cells": [
  {
   "cell_type": "code",
   "execution_count": 9,
   "metadata": {
    "scrolled": true
   },
   "outputs": [
    {
     "name": "stdout",
     "output_type": "stream",
     "text": [
      "\u001b[0m\u001b[01;34m3rdparty\u001b[0m/                   cvconfig.h               opencv_tests_config.hpp\r\n",
      "CMakeCache.txt              \u001b[01;34mdata\u001b[0m/                    \u001b[01;34mopt\u001b[0m/\r\n",
      "CMakeDownloadLog.txt        \u001b[01;34mdev\u001b[0m/                     \u001b[01;34mproc\u001b[0m/\r\n",
      "\u001b[01;34mCMakeFiles\u001b[0m/                 \u001b[01;34mdoc\u001b[0m/                     \u001b[01;34mpython_loader\u001b[0m/\r\n",
      "CMakeVars.txt               \u001b[01;34metc\u001b[0m/                     \u001b[01;34mroot\u001b[0m/\r\n",
      "CPackConfig.cmake           \u001b[01;34mhome\u001b[0m/                    \u001b[01;34mrun\u001b[0m/\r\n",
      "CPackSourceConfig.cmake     \u001b[01;34minclude\u001b[0m/                 \u001b[01;34msbin\u001b[0m/\r\n",
      "OpenCVConfig-version.cmake  \u001b[01;34mlib\u001b[0m/                     \u001b[01;32msetup_vars.sh\u001b[0m*\r\n",
      "OpenCVConfig.cmake          \u001b[01;34mlib64\u001b[0m/                   \u001b[01;34msrv\u001b[0m/\r\n",
      "\u001b[01;34mapps\u001b[0m/                       \u001b[01;34mmedia\u001b[0m/                   \u001b[01;34msys\u001b[0m/\r\n",
      "\u001b[01;34mbin\u001b[0m/                        \u001b[01;34mmnt\u001b[0m/                     \u001b[01;34mtest-reports\u001b[0m/\r\n",
      "\u001b[01;34mboot\u001b[0m/                       \u001b[01;34mmodules\u001b[0m/                 \u001b[34;42mtf\u001b[0m/\r\n",
      "\u001b[01;34mbuild\u001b[0m/                      \u001b[01;34mopencv-master\u001b[0m/           \u001b[30;42mtmp\u001b[0m/\r\n",
      "cmake_uninstall.cmake       opencv.zip               \u001b[01;34munix-install\u001b[0m/\r\n",
      "\u001b[01;34mconfigured\u001b[0m/                 \u001b[01;34mopencv2\u001b[0m/                 \u001b[01;34musr\u001b[0m/\r\n",
      "custom_hal.hpp              opencv_data_config.hpp   \u001b[01;34mvar\u001b[0m/\r\n",
      "cv_cpu_config.h             opencv_python_tests.cfg  version_string.tmp\r\n"
     ]
    }
   ],
   "source": []
  },
  {
   "cell_type": "code",
   "execution_count": 120,
   "metadata": {},
   "outputs": [
    {
     "name": "stdout",
     "output_type": "stream",
     "text": [
      "mkdir: cannot create directory ‘opencv’: File exists\r\n"
     ]
    }
   ],
   "source": [
    "!mkdir opencv\n",
    "!cd opencv/"
   ]
  },
  {
   "cell_type": "code",
   "execution_count": 156,
   "metadata": {},
   "outputs": [],
   "source": [
    "rm -rf darknet opencv-master build opencv opencv.zip"
   ]
  },
  {
   "cell_type": "code",
   "execution_count": 1,
   "metadata": {},
   "outputs": [
    {
     "name": "stdout",
     "output_type": "stream",
     "text": [
      "/\n",
      "--2021-11-17 02:16:37--  https://github.com/opencv/opencv/archive/master.zip\n",
      "Resolving github.com (github.com)... 140.82.112.3\n",
      "Connecting to github.com (github.com)|140.82.112.3|:443... connected.\n",
      "HTTP request sent, awaiting response... 302 Found\n",
      "Location: https://codeload.github.com/opencv/opencv/zip/master [following]\n",
      "--2021-11-17 02:16:37--  https://codeload.github.com/opencv/opencv/zip/master\n",
      "Resolving codeload.github.com (codeload.github.com)... 140.82.112.10\n",
      "Connecting to codeload.github.com (codeload.github.com)|140.82.112.10|:443... connected.\n",
      "HTTP request sent, awaiting response... 200 OK\n",
      "Length: unspecified [application/zip]\n",
      "Saving to: ‘opencv.zip’\n",
      "\n",
      "opencv.zip              [   <=>              ]  89.62M  12.2MB/s    in 9.5s    \n",
      "\n",
      "2021-11-17 02:16:46 (9.47 MB/s) - ‘opencv.zip’ saved [93970318]\n",
      "\n",
      "Archive:  opencv.zip\n",
      "2f6d2b08aa6dcd60c3eb58d203aab370509f8535\n",
      "replace opencv-master/.editorconfig? [y]es, [n]o, [A]ll, [N]one, [r]ename: ^C\n",
      "-- Detected processor: x86_64\n",
      "-- Looking for ccache - not found\n",
      "-- Found ZLIB: /usr/lib/x86_64-linux-gnu/libz.so (found suitable version \"1.2.11\", minimum required is \"1.2.3\") \n",
      "Cleaning INTERNAL cached variable: TIFF_LIBRARY\n",
      "Cleaning INTERNAL cached variable: TIFF_INCLUDE_DIR\n",
      "-- Could NOT find TIFF (missing: TIFF_LIBRARY TIFF_INCLUDE_DIR) \n",
      "Cleaning INTERNAL cached variable: WEBP_LIBRARY\n",
      "Cleaning INTERNAL cached variable: WEBP_INCLUDE_DIR\n",
      "-- Could NOT find OpenJPEG (minimal suitable version: 2.0, recommended version >= 2.3.1). OpenJPEG will be built from sources\n",
      "-- OpenJPEG: VERSION = 2.4.0, BUILD = opencv-4.5.4-dev-openjp2-2.4.0\n",
      "-- OpenJPEG libraries will be built from sources: libopenjp2 (version \"2.4.0\")\n",
      "-- Found ZLIB: /usr/lib/x86_64-linux-gnu/libz.so (found version \"1.2.11\") \n",
      "-- libva: missing va.h header (VA_INCLUDE_DIR)\n",
      "-- found Intel IPP (ICV version): 2020.0.0 [2020.0.0 Gold]\n",
      "-- at: //3rdparty/ippicv/ippicv_lnx/icv\n",
      "-- found Intel IPP Integration Wrappers sources: 2020.0.0\n",
      "-- at: //3rdparty/ippicv/ippicv_lnx/iw\n",
      "-- Could not find OpenBLAS include. Turning OpenBLAS_FOUND off\n",
      "-- Could not find OpenBLAS lib. Turning OpenBLAS_FOUND off\n",
      "-- Could NOT find Atlas (missing: Atlas_CBLAS_INCLUDE_DIR Atlas_CLAPACK_INCLUDE_DIR Atlas_CBLAS_LIBRARY Atlas_BLAS_LIBRARY Atlas_LAPACK_LIBRARY) \n",
      "-- A library with BLAS API not found. Please specify library location.\n",
      "-- LAPACK requires BLAS\n",
      "-- A library with LAPACK API not found. Please specify library location.\n",
      "-- Could NOT find JNI (missing: JAVA_AWT_LIBRARY JAVA_JVM_LIBRARY JAVA_INCLUDE_PATH JAVA_INCLUDE_PATH2 JAVA_AWT_INCLUDE_PATH) \n",
      "-- VTK is not found. Please set -DVTK_DIR in CMake to VTK build directory, or to VTK install subdirectory with VTKConfig.cmake file\n",
      "-- Checking for module 'gtk+-3.0'\n",
      "--   No package 'gtk+-3.0' found\n",
      "-- Checking for module 'gtk+-2.0'\n",
      "--   No package 'gtk+-2.0' found\n",
      "-- Checking for module 'gthread-2.0'\n",
      "--   No package 'gthread-2.0' found\n",
      "-- Checking for modules 'libavcodec;libavformat;libavutil;libswscale'\n",
      "--   No package 'libswscale' found\n",
      "-- FFMPEG is disabled. Required libraries: libavcodec;libavformat;libavutil;libswscale. Missing libraries: libavcodec;libavformat;libavutil;libswscale\n",
      "-- Checking for module 'gstreamer-base-1.0'\n",
      "--   No package 'gstreamer-base-1.0' found\n",
      "-- Checking for module 'gstreamer-app-1.0'\n",
      "--   No package 'gstreamer-app-1.0' found\n",
      "-- Checking for module 'gstreamer-riff-1.0'\n",
      "--   No package 'gstreamer-riff-1.0' found\n",
      "-- Checking for module 'gstreamer-pbutils-1.0'\n",
      "--   No package 'gstreamer-pbutils-1.0' found\n",
      "-- Checking for module 'gstreamer-video-1.0'\n",
      "--   No package 'gstreamer-video-1.0' found\n",
      "-- Checking for module 'libdc1394-2'\n",
      "--   No package 'libdc1394-2' found\n",
      "-- Allocator metrics storage type: 'long long'\n",
      "-- Registering hook 'INIT_MODULE_SOURCES_opencv_dnn': /opencv-master/modules/dnn/cmake/hooks/INIT_MODULE_SOURCES_opencv_dnn.cmake\n",
      "-- opencv_dnn: filter out cuda4dnn source code\n",
      "-- Excluding from source files list: <BUILD>//modules/dnn/layers/layers_common.rvv.cpp\n",
      "-- highgui: using builtin backend: NONE\n",
      "-- Found 'misc' Python modules from /opencv-master/modules/python/package/extra_modules\n",
      "-- Found 'mat_wrapper;utils' Python modules from /opencv-master/modules/core/misc/python/package\n",
      "-- Found 'gapi' Python modules from /opencv-master/modules/gapi/misc/python/package\n",
      "-- Found 'misc' Python modules from /opencv-master/modules/python/package/extra_modules\n",
      "-- Found 'mat_wrapper;utils' Python modules from /opencv-master/modules/core/misc/python/package\n",
      "-- Found 'gapi' Python modules from /opencv-master/modules/gapi/misc/python/package\n",
      "-- \n",
      "-- General configuration for OpenCV 4.5.4-dev =====================================\n",
      "--   Version control:               unknown\n",
      "-- \n",
      "--   Platform:\n",
      "--     Timestamp:                   2021-11-17T02:10:40Z\n",
      "--     Host:                        Linux 4.15.0-55-generic x86_64\n",
      "--     CMake:                       3.10.2\n",
      "--     CMake generator:             Unix Makefiles\n",
      "--     CMake build tool:            /usr/bin/make\n",
      "--     Configuration:               Release\n",
      "-- \n",
      "--   CPU/HW features:\n",
      "--     Baseline:                    SSE SSE2 SSE3\n",
      "--       requested:                 SSE3\n",
      "--     Dispatched code generation:  SSE4_1 SSE4_2 FP16 AVX AVX2 AVX512_SKX\n",
      "--       requested:                 SSE4_1 SSE4_2 AVX FP16 AVX2 AVX512_SKX\n",
      "--       SSE4_1 (18 files):         + SSSE3 SSE4_1\n",
      "--       SSE4_2 (2 files):          + SSSE3 SSE4_1 POPCNT SSE4_2\n",
      "--       FP16 (1 files):            + SSSE3 SSE4_1 POPCNT SSE4_2 FP16 AVX\n",
      "--       AVX (5 files):             + SSSE3 SSE4_1 POPCNT SSE4_2 AVX\n",
      "--       AVX2 (33 files):           + SSSE3 SSE4_1 POPCNT SSE4_2 FP16 FMA3 AVX AVX2\n",
      "--       AVX512_SKX (8 files):      + SSSE3 SSE4_1 POPCNT SSE4_2 FP16 FMA3 AVX AVX2 AVX_512F AVX512_COMMON AVX512_SKX\n",
      "-- \n",
      "--   C/C++:\n",
      "--     Built as dynamic libs?:      YES\n",
      "--     C++ standard:                11\n",
      "--     C++ Compiler:                /usr/bin/c++  (ver 7.5.0)\n",
      "--     C++ flags (Release):         -fsigned-char -W -Wall -Werror=return-type -Werror=non-virtual-dtor -Werror=address -Werror=sequence-point -Wformat -Werror=format-security -Wmissing-declarations -Wundef -Winit-self -Wpointer-arith -Wshadow -Wsign-promo -Wuninitialized -Wsuggest-override -Wno-delete-non-virtual-dtor -Wno-comment -Wimplicit-fallthrough=3 -Wno-strict-overflow -fdiagnostics-show-option -Wno-long-long -pthread -fomit-frame-pointer -ffunction-sections -fdata-sections  -msse -msse2 -msse3 -fvisibility=hidden -fvisibility-inlines-hidden -O3 -DNDEBUG  -DNDEBUG\n",
      "--     C++ flags (Debug):           -fsigned-char -W -Wall -Werror=return-type -Werror=non-virtual-dtor -Werror=address -Werror=sequence-point -Wformat -Werror=format-security -Wmissing-declarations -Wundef -Winit-self -Wpointer-arith -Wshadow -Wsign-promo -Wuninitialized -Wsuggest-override -Wno-delete-non-virtual-dtor -Wno-comment -Wimplicit-fallthrough=3 -Wno-strict-overflow -fdiagnostics-show-option -Wno-long-long -pthread -fomit-frame-pointer -ffunction-sections -fdata-sections  -msse -msse2 -msse3 -fvisibility=hidden -fvisibility-inlines-hidden -g  -O0 -DDEBUG -D_DEBUG\n",
      "--     C Compiler:                  /usr/bin/cc\n",
      "--     C flags (Release):           -fsigned-char -W -Wall -Werror=return-type -Werror=address -Werror=sequence-point -Wformat -Werror=format-security -Wmissing-declarations -Wmissing-prototypes -Wstrict-prototypes -Wundef -Winit-self -Wpointer-arith -Wshadow -Wuninitialized -Wno-comment -Wimplicit-fallthrough=3 -Wno-strict-overflow -fdiagnostics-show-option -Wno-long-long -pthread -fomit-frame-pointer -ffunction-sections -fdata-sections  -msse -msse2 -msse3 -fvisibility=hidden -O3 -DNDEBUG  -DNDEBUG\n",
      "--     C flags (Debug):             -fsigned-char -W -Wall -Werror=return-type -Werror=address -Werror=sequence-point -Wformat -Werror=format-security -Wmissing-declarations -Wmissing-prototypes -Wstrict-prototypes -Wundef -Winit-self -Wpointer-arith -Wshadow -Wuninitialized -Wno-comment -Wimplicit-fallthrough=3 -Wno-strict-overflow -fdiagnostics-show-option -Wno-long-long -pthread -fomit-frame-pointer -ffunction-sections -fdata-sections  -msse -msse2 -msse3 -fvisibility=hidden -g  -O0 -DDEBUG -D_DEBUG\n",
      "--     Linker flags (Release):      -Wl,--exclude-libs,libippicv.a -Wl,--exclude-libs,libippiw.a   -Wl,--gc-sections -Wl,--as-needed  \n",
      "--     Linker flags (Debug):        -Wl,--exclude-libs,libippicv.a -Wl,--exclude-libs,libippiw.a   -Wl,--gc-sections -Wl,--as-needed  \n",
      "--     ccache:                      NO\n",
      "--     Precompiled headers:         NO\n"
     ]
    },
    {
     "name": "stdout",
     "output_type": "stream",
     "text": [
      "--     Extra dependencies:          dl m pthread rt\n",
      "--     3rdparty dependencies:\n",
      "-- \n",
      "--   OpenCV modules:\n",
      "--     To be built:                 calib3d core dnn features2d flann gapi highgui imgcodecs imgproc ml objdetect photo python3 stitching ts video videoio\n",
      "--     Disabled:                    world\n",
      "--     Disabled by dependency:      -\n",
      "--     Unavailable:                 java python2\n",
      "--     Applications:                tests perf_tests apps\n",
      "--     Documentation:               NO\n",
      "--     Non-free algorithms:         NO\n",
      "-- \n",
      "--   GUI:                           NONE\n",
      "--     GTK+:                        NO\n",
      "--     VTK support:                 NO\n",
      "-- \n",
      "--   Media I/O: \n",
      "--     ZLib:                        /usr/lib/x86_64-linux-gnu/libz.so (ver 1.2.11)\n",
      "--     JPEG:                        /usr/lib/x86_64-linux-gnu/libjpeg.so (ver 80)\n",
      "--     WEBP:                        build (ver encoder: 0x020f)\n",
      "--     PNG:                         /usr/lib/x86_64-linux-gnu/libpng.so (ver 1.6.34)\n",
      "--     TIFF:                        build (ver 42 - 4.2.0)\n",
      "--     JPEG 2000:                   build (ver 2.4.0)\n",
      "--     OpenEXR:                     build (ver 2.3.0)\n",
      "--     HDR:                         YES\n",
      "--     SUNRASTER:                   YES\n",
      "--     PXM:                         YES\n",
      "--     PFM:                         YES\n",
      "-- \n",
      "--   Video I/O:\n",
      "--     DC1394:                      NO\n",
      "--     FFMPEG:                      NO\n",
      "--       avcodec:                   NO\n",
      "--       avformat:                  NO\n",
      "--       avutil:                    NO\n",
      "--       swscale:                   NO\n",
      "--       avresample:                NO\n",
      "--     GStreamer:                   NO\n",
      "--     v4l/v4l2:                    YES (linux/videodev2.h)\n",
      "-- \n",
      "--   Parallel framework:            pthreads\n",
      "-- \n",
      "--   Trace:                         YES (with Intel ITT)\n",
      "-- \n",
      "--   Other third-party libraries:\n",
      "--     Intel IPP:                   2020.0.0 Gold [2020.0.0]\n",
      "--            at:                   //3rdparty/ippicv/ippicv_lnx/icv\n",
      "--     Intel IPP IW:                sources (2020.0.0)\n",
      "--               at:                //3rdparty/ippicv/ippicv_lnx/iw\n",
      "--     VA:                          NO\n",
      "--     Lapack:                      NO\n",
      "--     Eigen:                       NO\n",
      "--     Custom HAL:                  NO\n",
      "--     Protobuf:                    build (3.19.1)\n",
      "-- \n",
      "--   OpenCL:                        YES (no extra features)\n",
      "--     Include path:                /opencv-master/3rdparty/include/opencl/1.2\n",
      "--     Link libraries:              Dynamic load\n",
      "-- \n",
      "--   Python 3:\n",
      "--     Interpreter:                 /usr/bin/python3 (ver 3.6.9)\n",
      "--     Libraries:                   /usr/lib/x86_64-linux-gnu/libpython3.6m.so (ver 3.6.9)\n",
      "--     numpy:                       /usr/local/lib/python3.6/dist-packages/numpy/core/include (ver 1.18.2)\n",
      "--     install path:                lib/python3.6/dist-packages/cv2/python-3.6\n",
      "-- \n",
      "--   Python (for build):            /usr/bin/python3\n",
      "-- \n",
      "--   Java:                          \n",
      "--     ant:                         NO\n",
      "--     JNI:                         NO\n",
      "--     Java wrappers:               NO\n",
      "--     Java tests:                  NO\n",
      "-- \n",
      "--   Install to:                    /usr/local\n",
      "-- -----------------------------------------------------------------\n",
      "-- \n",
      "-- Configuring done\n",
      "cmake: /build/cmake-EzfLrH/cmake-3.10.2/Source/cmOutputConverter.cxx:125: static std::__cxx11::string cmOutputConverter::ForceToRelativePath(const string&, const string&): Assertion `local_path.empty() || local_path[local_path.size() - 1] != '/'' failed.\n",
      "Aborted (core dumped)\n",
      "make: *** No targets specified and no makefile found.  Stop.\n"
     ]
    }
   ],
   "source": [
    "%cd /\n",
    "!wget -O opencv.zip https://github.com/opencv/opencv/archive/master.zip\n",
    "!unzip opencv.zip\n",
    "!mkdir -p build && cd build\n",
    "!cmake  ../opencv-master\n",
    "!cmake --build .\n",
    "!echo \"PKG_CONFIG_PATH=$PKG_CONFIG_PATH:/usr/local/lib/pkgconfig\" >> ~/.bashrc\n",
    "!echo \"export PKG_CONFIG_PATH\" >> ~/.bashrc"
   ]
  },
  {
   "cell_type": "code",
   "execution_count": 2,
   "metadata": {
    "scrolled": false
   },
   "outputs": [
    {
     "name": "stdout",
     "output_type": "stream",
     "text": [
      "/home\n",
      "fatal: destination path 'darknet' already exists and is not an empty directory.\n",
      "/home/darknet\n",
      "nvcc: NVIDIA (R) Cuda compiler driver\n",
      "Copyright (c) 2005-2019 NVIDIA Corporation\n",
      "Built on Sun_Jul_28_19:07:16_PDT_2019\n",
      "Cuda compilation tools, release 10.1, V10.1.243\n",
      "chmod +x *.sh\n",
      "g++ -std=c++11 -std=c++11 -Iinclude/ -I3rdparty/stb/include -DOPENCV `pkg-config --cflags opencv4 2> /dev/null || pkg-config --cflags opencv` -DGPU -I/usr/local/cuda/include/ -DCUDNN -Wall -Wfatal-errors -Wno-unused-result -Wno-unknown-pragmas -fPIC -Ofast -DOPENCV -DGPU -DCUDNN -I/usr/local/cudnn/include -c ./src/image_opencv.cpp -o obj/image_opencv.o\n",
      "Package opencv was not found in the pkg-config search path.\n",
      "Perhaps you should add the directory containing `opencv.pc'\n",
      "to the PKG_CONFIG_PATH environment variable\n",
      "No package 'opencv' found\n",
      "In file included from \u001b[01m\u001b[K./src/image.h:3:0\u001b[m\u001b[K,\n",
      "                 from \u001b[01m\u001b[K./src/image_opencv.h:4\u001b[m\u001b[K,\n",
      "                 from \u001b[01m\u001b[K./src/image_opencv.cpp:1\u001b[m\u001b[K:\n",
      "\u001b[01m\u001b[Kinclude/darknet.h:42:10:\u001b[m\u001b[K \u001b[01;31m\u001b[Kfatal error: \u001b[m\u001b[Kcurand.h: No such file or directory\n",
      " #include \u001b[01;31m\u001b[K<curand.h>\u001b[m\u001b[K\n",
      "          \u001b[01;31m\u001b[K^~~~~~~~~~\u001b[m\u001b[K\n",
      "compilation terminated.\n",
      "Makefile:182: recipe for target 'obj/image_opencv.o' failed\n",
      "make: *** [obj/image_opencv.o] Error 1\n"
     ]
    }
   ],
   "source": [
    "%cd /home\n",
    "!git clone https://github.com/AlexeyAB/darknet\n",
    "%cd darknet\n",
    "!sed -i 's/OPENCV=0/OPENCV=1/' Makefile\n",
    "!sed -i 's/GPU=0/GPU=1/' Makefile\n",
    "!sed -i 's/CUDNN=0/CUDNN=1/' Makefile\n",
    "\n",
    "# verify CUDA\n",
    "!/usr/local/cuda/bin/nvcc --version\n",
    "! make"
   ]
  },
  {
   "cell_type": "markdown",
   "metadata": {},
   "source": [
    "## cfg file"
   ]
  },
  {
   "cell_type": "code",
   "execution_count": 3,
   "metadata": {},
   "outputs": [],
   "source": [
    "! cp cfg/yolov3.cfg cfg/yolov3_traffic_signal.cfg\n",
    "!sed -i 's/batch=1/batch=8/' cfg/yolov3_traffic_signal.cfg\n",
    "!sed -i 's/subdivisions=1/subdivisions=1/' cfg/yolov3_traffic_signal.cfg\n",
    "!sed -i 's/max_batches = 500200/max_batches = 2200/' cfg/yolov3_traffic_signal.cfg\n",
    "!sed -i 's/steps=400000,450000/steps=1600,1800/' cfg/yolov3_traffic_signal.cfg\n",
    "!sed -i 's/filters=255/filters=18/g' cfg/yolov3_traffic_signal.cfg\n",
    "!sed -i 's/classes=80/classes=1/g' cfg/yolov3_traffic_signal.cfg"
   ]
  },
  {
   "cell_type": "markdown",
   "metadata": {},
   "source": [
    "## download pretrained file"
   ]
  },
  {
   "cell_type": "code",
   "execution_count": 4,
   "metadata": {},
   "outputs": [
    {
     "name": "stdout",
     "output_type": "stream",
     "text": [
      "--2021-11-17 02:17:47--  https://pjreddie.com/media/files/yolov3.weights\n",
      "Resolving pjreddie.com (pjreddie.com)... 128.208.4.108\n",
      "Connecting to pjreddie.com (pjreddie.com)|128.208.4.108|:443... connected.\n",
      "HTTP request sent, awaiting response... 200 OK\n",
      "Length: 248007048 (237M) [application/octet-stream]\n",
      "Saving to: ‘yolov3.weights’\n",
      "\n",
      "yolov3.weights       62%[===========>        ] 148.55M  10.2MB/s    eta 5s     ^C\n",
      "URL transformed to HTTPS due to an HSTS policy\n",
      "--2021-11-17 02:17:57--  https://pjreddie.com/media/files/darknet53.conv.74\n",
      "Resolving pjreddie.com (pjreddie.com)... 128.208.4.108\n",
      "Connecting to pjreddie.com (pjreddie.com)|128.208.4.108|:443... connected.\n",
      "HTTP request sent, awaiting response... 200 OK\n",
      "Length: 162482580 (155M) [application/octet-stream]\n",
      "Saving to: ‘darknet53.conv.74’\n",
      "\n",
      "darknet53.conv.74   100%[===================>] 154.96M  44.6MB/s    in 3.7s    \n",
      "\n",
      "2021-11-17 02:18:01 (41.4 MB/s) - ‘darknet53.conv.74’ saved [162482580/162482580]\n",
      "\n"
     ]
    }
   ],
   "source": [
    "# get yolov3 pretrained coco dataset weights\n",
    "!wget https://pjreddie.com/media/files/yolov3.weights\n",
    "    \n",
    "# upload pretrained convolutional layer weights\n",
    "!wget http://pjreddie.com/media/files/darknet53.conv.74"
   ]
  },
  {
   "cell_type": "markdown",
   "metadata": {},
   "source": [
    "# dataset loading\n",
    "- copy dataset to the data/obj direcotry\n",
    "- generate train.txt containing the jpg names."
   ]
  },
  {
   "cell_type": "code",
   "execution_count": 5,
   "metadata": {},
   "outputs": [],
   "source": [
    "import shutil\n",
    "import os\n",
    "\n",
    "label_dir = '../Traffic-Sign-Detection-Dataset/yolo_num_label/'\n",
    "img_dir = '../Traffic-Sign-Detection-Dataset/yolo_data/'\n",
    "\n",
    "if not 'obj' in os.listdir('data') :\n",
    "    os.mkdir('data/obj')\n",
    "\n",
    "with open('data/train.txt', 'w') as t:    \n",
    "    for f in os.listdir(img_dir):\n",
    "        if f.endswith('.jpg'):\n",
    "            t.writelines(f+\"\\n\")\n",
    "            f = img_dir+f\n",
    "            if os.path.isfile(f) :\n",
    "                shutil.copy(f,'data/obj')\n",
    "\n",
    "    for f in os.listdir(label_dir):\n",
    "        f = img_dir+f\n",
    "        shutil.copy(f,'data/obj')"
   ]
  },
  {
   "cell_type": "markdown",
   "metadata": {},
   "source": [
    "## compose obj.data, obj.names"
   ]
  },
  {
   "cell_type": "code",
   "execution_count": 6,
   "metadata": {},
   "outputs": [],
   "source": [
    "lines = [\n",
    "    \"-e classes= 1\", \n",
    "    \"train  = data/train.txt\", \n",
    "    \"valid  = data/test.txt\", \n",
    "    \"backup = /content/gdrive/MyDrive/Yolo/yolov3\"\n",
    "]\n",
    "\n",
    "with open('data/obj.data', 'w') as t:\n",
    "    i = 0\n",
    "    for line in lines :\n",
    "        if len(lines) != i :\n",
    "            t.writelines(line+\"\\n\")\n",
    "        else :\n",
    "            t.writelines(line)\n",
    "        i = i + 1\n",
    "        \n",
    "\n",
    "\n",
    "    "
   ]
  },
  {
   "cell_type": "code",
   "execution_count": 7,
   "metadata": {},
   "outputs": [],
   "source": [
    "import json\n",
    "\n",
    "lines = list(json.load(open('../Traffic-Sign-Detection-Dataset/label_setting.json',)).keys())\n",
    "with open('data/obj.names', 'w') as t :\n",
    "    i = 0\n",
    "    for line in lines :\n",
    "        if len(lines) != i :\n",
    "            t.writelines(line+\"\\n\")\n",
    "        else :\n",
    "            t.writelines(line)\n",
    "        i = i + 1"
   ]
  },
  {
   "cell_type": "markdown",
   "metadata": {},
   "source": [
    "!cp ../../darknet/data/obj.data data/obj.data\n",
    "!cp ../../darknet/cfg/yolov3_traffic_signal.cfg cfg/yolov3_traffic_signal.cfg\n",
    "!cp ../../darknet/darknet53.conv.74 darknet53.conv.74\n",
    "\n",
    "!cp -r ../../darknet/data/* data/."
   ]
  },
  {
   "cell_type": "code",
   "execution_count": null,
   "metadata": {},
   "outputs": [],
   "source": []
  },
  {
   "cell_type": "code",
   "execution_count": null,
   "metadata": {},
   "outputs": [],
   "source": []
  },
  {
   "cell_type": "code",
   "execution_count": null,
   "metadata": {},
   "outputs": [],
   "source": []
  },
  {
   "cell_type": "code",
   "execution_count": null,
   "metadata": {},
   "outputs": [],
   "source": []
  },
  {
   "cell_type": "code",
   "execution_count": null,
   "metadata": {},
   "outputs": [],
   "source": []
  },
  {
   "cell_type": "code",
   "execution_count": null,
   "metadata": {},
   "outputs": [],
   "source": []
  },
  {
   "cell_type": "code",
   "execution_count": 25,
   "metadata": {},
   "outputs": [
    {
     "name": "stdout",
     "output_type": "stream",
     "text": [
      "\u001b[0m\u001b[01;34m3rdparty\u001b[0m/               \u001b[01;34mcmake\u001b[0m/                  \u001b[01;32mnet_cam_v3.sh\u001b[0m*\r\n",
      "CMakeLists.txt          \u001b[01;32mdarknet\u001b[0m*                \u001b[01;32mnet_cam_v4.sh\u001b[0m*\r\n",
      "DarknetConfig.cmake.in  darknet.py              \u001b[01;34mobj\u001b[0m/\r\n",
      "LICENSE                 darknet_images.py       \u001b[01;34mresults\u001b[0m/\r\n",
      "Makefile                darknet_video.py        \u001b[01;34mscripts\u001b[0m/\r\n",
      "README.md               \u001b[01;34mdata\u001b[0m/                   \u001b[01;34msrc\u001b[0m/\r\n",
      "\u001b[01;34mbackup\u001b[0m/                 \u001b[01;32mimage_yolov3.sh\u001b[0m*        vcpkg.json\r\n",
      "\u001b[01;34mbuild\u001b[0m/                  \u001b[01;32mimage_yolov4.sh\u001b[0m*        \u001b[01;32mvideo_yolov3.sh\u001b[0m*\r\n",
      "\u001b[01;32mbuild.ps1\u001b[0m*              \u001b[01;34minclude\u001b[0m/                \u001b[01;32mvideo_yolov4.sh\u001b[0m*\r\n",
      "\u001b[01;34mcfg\u001b[0m/                    \u001b[01;32mjson_mjpeg_streams.sh\u001b[0m*\r\n"
     ]
    }
   ],
   "source": []
  },
  {
   "cell_type": "markdown",
   "metadata": {},
   "source": [
    "## Run Training"
   ]
  },
  {
   "cell_type": "code",
   "execution_count": 108,
   "metadata": {},
   "outputs": [
    {
     "name": "stdout",
     "output_type": "stream",
     "text": [
      " GPU isn't used \r\n",
      " OpenCV isn't used - data augmentation will be slow \r\n",
      "yolov3_traffic_signal\r\n",
      "Couldn't open file: cfg/yolov3_traffic_signal.cfg\r\n"
     ]
    }
   ],
   "source": [
    "! cd /home/darknet\n",
    "!./darknet detector train data/obj.data cfg/yolov3_traffic_signal.cfg darknet53.conv.74 -dont_show"
   ]
  },
  {
   "cell_type": "code",
   "execution_count": null,
   "metadata": {},
   "outputs": [],
   "source": []
  },
  {
   "cell_type": "code",
   "execution_count": null,
   "metadata": {},
   "outputs": [],
   "source": []
  },
  {
   "cell_type": "code",
   "execution_count": 10,
   "metadata": {},
   "outputs": [
    {
     "name": "stdout",
     "output_type": "stream",
     "text": [
      "-e classes= 1\r\n",
      "train  = data/train.txt\r\n",
      "valid  = data/test.txt\r\n",
      "names = data/obj.names\r\n",
      "backup = /content/gdrive/MyDrive/Yolo/yolov3\r\n"
     ]
    }
   ],
   "source": [
    "cat obj.data"
   ]
  },
  {
   "cell_type": "code",
   "execution_count": 11,
   "metadata": {},
   "outputs": [
    {
     "name": "stdout",
     "output_type": "stream",
     "text": [
      "Traffic sign\r\n"
     ]
    }
   ],
   "source": [
    "cat obj.names"
   ]
  },
  {
   "cell_type": "code",
   "execution_count": 104,
   "metadata": {},
   "outputs": [
    {
     "name": "stdout",
     "output_type": "stream",
     "text": [
      "-e classes= 1 /n  train  = data/train.txt /n  valid  = data/test.txt /n  names = data/obj.names /n  backup = /content/gdrive/MyDrive/Yolo/yolov3\r\n"
     ]
    }
   ],
   "source": [
    "!echo \"-e classes= 1 /n \\\n",
    "train  = data/train.txt /n \\\n",
    "valid  = data/test.txt /n \\\n",
    "names = data/obj.names /n \\\n",
    "backup = /content/gdrive/MyDrive/Yolo/yolov3\""
   ]
  },
  {
   "cell_type": "code",
   "execution_count": null,
   "metadata": {},
   "outputs": [],
   "source": []
  }
 ],
 "metadata": {
  "kernelspec": {
   "display_name": "Python 3",
   "language": "python",
   "name": "python3"
  },
  "language_info": {
   "codemirror_mode": {
    "name": "ipython",
    "version": 3
   },
   "file_extension": ".py",
   "mimetype": "text/x-python",
   "name": "python",
   "nbconvert_exporter": "python",
   "pygments_lexer": "ipython3",
   "version": "3.6.9"
  }
 },
 "nbformat": 4,
 "nbformat_minor": 2
}
